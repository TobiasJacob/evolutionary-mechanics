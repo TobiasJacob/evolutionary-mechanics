{
 "metadata": {
  "language_info": {
   "codemirror_mode": {
    "name": "ipython",
    "version": 3
   },
   "file_extension": ".py",
   "mimetype": "text/x-python",
   "name": "python",
   "nbconvert_exporter": "python",
   "pygments_lexer": "ipython3",
   "version": "3.7.1-final"
  },
  "orig_nbformat": 2,
  "kernelspec": {
   "name": "python3",
   "display_name": "Python 3.7.1 64-bit ('base': conda)",
   "metadata": {
    "interpreter": {
     "hash": "98c4c0a719aa3b7839d96977d8eaec504213b9ebc5e048b08e6e7ac2c15d8a8e"
    }
   }
  }
 },
 "nbformat": 4,
 "nbformat_minor": 2,
 "cells": [
  {
   "cell_type": "code",
   "execution_count": 455,
   "metadata": {},
   "outputs": [],
   "source": [
    "import numpy as np\n",
    "import matplotlib.pyplot as plt\n",
    "import scipy\n",
    "import scipy.linalg"
   ]
  },
  {
   "cell_type": "code",
   "execution_count": 456,
   "metadata": {},
   "outputs": [
    {
     "output_type": "execute_result",
     "data": {
      "text/plain": [
       "(119.99999999999999, 60.0)"
      ]
     },
     "metadata": {},
     "execution_count": 456
    }
   ],
   "source": [
    "E = 160\n",
    "v = 1 / 3\n",
    "lam = E * v / (1 + v) / (1 - 2 * v)\n",
    "mu = E / 2 / (1 + v)\n",
    "lam, mu"
   ]
  },
  {
   "cell_type": "code",
   "execution_count": 457,
   "metadata": {},
   "outputs": [
    {
     "output_type": "execute_result",
     "data": {
      "text/plain": [
       "array([[240., 120.,   0.],\n",
       "       [120., 240.,   0.],\n",
       "       [  0.,   0.,  60.]])"
      ]
     },
     "metadata": {},
     "execution_count": 457
    }
   ],
   "source": [
    "# Seems to be wrong, https://physik.cosmos-indirekt.de/Physik-Schule/Elastizit%C3%A4tstensor is right\n",
    "#lam = 120\n",
    "#mu = 60\n",
    "\n",
    "E = np.array([\n",
    "    [lam + 2 * mu, lam, 0],\n",
    "    [lam, lam + 2 * mu, 0],\n",
    "    [0, 0, mu]\n",
    "])\n",
    "E"
   ]
  },
  {
   "cell_type": "code",
   "execution_count": 458,
   "metadata": {},
   "outputs": [],
   "source": [
    "B = np.array([\n",
    "    [-1, 0, 1, 0, 0, 0],\n",
    "    [0, -1, 0, 0, 0, 1],\n",
    "    [-1, -1, 0, 1, 1, 0]\n",
    "])"
   ]
  },
  {
   "cell_type": "code",
   "execution_count": 459,
   "metadata": {},
   "outputs": [
    {
     "output_type": "execute_result",
     "data": {
      "text/plain": [
       "array([[ 300.,  180., -240.,  -60.,  -60., -120.],\n",
       "       [ 180.,  300., -120.,  -60.,  -60., -240.],\n",
       "       [-240., -120.,  240.,    0.,    0.,  120.],\n",
       "       [ -60.,  -60.,    0.,   60.,   60.,    0.],\n",
       "       [ -60.,  -60.,    0.,   60.,   60.,    0.],\n",
       "       [-120., -240.,  120.,    0.,    0.,  240.]])"
      ]
     },
     "metadata": {},
     "execution_count": 459
    }
   ],
   "source": [
    "k = np.transpose(B) @ E @ B\n",
    "np.set_printoptions(3, linewidth=200)\n",
    "k"
   ]
  },
  {
   "cell_type": "code",
   "execution_count": 460,
   "metadata": {},
   "outputs": [
    {
     "output_type": "execute_result",
     "data": {
      "text/plain": [
       "3"
      ]
     },
     "metadata": {},
     "execution_count": 460
    }
   ],
   "source": [
    "np.linalg.matrix_rank(k)"
   ]
  },
  {
   "cell_type": "code",
   "execution_count": 461,
   "metadata": {},
   "outputs": [],
   "source": [
    "Field = np.array([\n",
    "    [True, False, False],\n",
    "    [True, True, True],\n",
    "    [True, False, False]\n",
    "])"
   ]
  },
  {
   "cell_type": "code",
   "execution_count": 462,
   "metadata": {},
   "outputs": [
    {
     "output_type": "execute_result",
     "data": {
      "text/plain": [
       "(21, 21)"
      ]
     },
     "metadata": {},
     "execution_count": 462
    }
   ],
   "source": [
    "counter = 0\n",
    "positionsIn = []\n",
    "\n",
    "edgesOnRectangle = np.array([(0, 0), (1, 0), (1, 1), (0, 1)])\n",
    "\n",
    "for x in range(Field.shape[0]):\n",
    "    for y in range(Field.shape[1]):\n",
    "        if Field[x, y]:\n",
    "            for edge in edgesOnRectangle:\n",
    "                pos = edge + (x, y)\n",
    "                pos = (pos[0], pos[1])\n",
    "                if pos not in positionsIn:\n",
    "                    counter += 1\n",
    "                    positionsIn.append(pos)\n",
    "\n",
    "\n",
    "# Effective method for calculating K\n",
    "KGlob = np.zeros((2 * counter, 2 * counter))\n",
    "\n",
    "for x in range(Field.shape[0]):\n",
    "    for y in range(Field.shape[1]):\n",
    "        if Field[x, y]:\n",
    "            evenI = lambda pos: positionsIn.index((x + pos[0], y + pos[1])) * 2\n",
    "            oddI = lambda pos: positionsIn.index((x + pos[0], y + pos[1])) * 2 + 1\n",
    "\n",
    "            targetIndices = [evenI((0, 0)), oddI((0, 0)), evenI((1, 0)), oddI((1, 0)), evenI((0, 1)), oddI((0, 1))]\n",
    "\n",
    "            for i in range(k.shape[0]):\n",
    "                for j in range(k.shape[1]):\n",
    "                    KGlob[targetIndices[i], targetIndices[j]] += k[i, j]\n",
    "\n",
    "            targetIndices = [evenI((1, 1)), oddI((1, 1)), evenI((0, 1)), oddI((0, 1)), evenI((1, 0)), oddI((1, 0))]\n",
    "\n",
    "            for i in range(k.shape[0]):\n",
    "                for j in range(k.shape[1]):\n",
    "                    KGlob[targetIndices[i], targetIndices[j]] += k[i, j]\n",
    "KGlob = np.delete(np.delete(KGlob, 22, 0), 22, 1)\n",
    "KGlob = np.delete(np.delete(KGlob, 21, 0), 21, 1)\n",
    "KGlob = np.delete(np.delete(KGlob, 20, 0), 20, 1)\n",
    "KGlobBack = KGlob\n",
    "KGlob.shape"
   ]
  },
  {
   "cell_type": "code",
   "execution_count": 463,
   "metadata": {},
   "outputs": [
    {
     "output_type": "execute_result",
     "data": {
      "text/plain": [
       "21"
      ]
     },
     "metadata": {},
     "execution_count": 463
    }
   ],
   "source": [
    "np.linalg.matrix_rank(KGlob)"
   ]
  },
  {
   "cell_type": "code",
   "execution_count": 464,
   "metadata": {},
   "outputs": [],
   "source": [
    "f = np.zeros((KGlob.shape[0], 1))\n",
    "f[18] = 10"
   ]
  },
  {
   "cell_type": "code",
   "execution_count": 465,
   "metadata": {},
   "outputs": [
    {
     "output_type": "stream",
     "name": "stdout",
     "text": [
      "46 [[-0.109]\n [ 0.916]\n [-0.109]\n [ 0.604]\n [ 0.196]\n [ 0.613]\n [ 0.202]\n [ 0.917]\n [-0.085]\n [ 0.184]\n [ 0.157]\n [ 0.151]\n [ 0.796]\n [ 0.091]\n [ 0.78 ]\n [ 0.685]\n [ 1.47 ]\n [ 0.08 ]\n [ 1.48 ]\n [ 0.693]\n [ 0.093]] 3.2392099543196693e-13\n"
     ]
    }
   ],
   "source": [
    "# https://en.wikipedia.org/wiki/Conjugate_gradient_method\n",
    "\n",
    "x_k = np.zeros((KGlob.shape[1], 1))\n",
    "r_k = f - KGlob @ x_k\n",
    "p_k = r_k\n",
    "for k in range(50):\n",
    "    alpha_k = r_k.transpose() @ r_k / (p_k.transpose() @ KGlob @ p_k)\n",
    "    x_k1 = x_k + alpha_k * p_k\n",
    "    r_k1 = r_k - alpha_k * KGlob @ p_k\n",
    "    if np.linalg.norm(r_k1) < 1e-20:\n",
    "        break\n",
    "    beta_k = r_k1.transpose() @ r_k1 / (r_k.transpose() @ r_k)\n",
    "    p_k1 = r_k1 + beta_k * p_k\n",
    "    x_k = x_k1\n",
    "    r_k = r_k1\n",
    "    p_k = p_k1\n",
    "# x_k1 = L @ x_k1\n",
    "print(k, x_k1,np.linalg.norm(KGlob @ x_k1 - f))"
   ]
  },
  {
   "cell_type": "code",
   "execution_count": 466,
   "metadata": {},
   "outputs": [],
   "source": [
    "a = np.copy(KGlob)\n",
    "for k in range(KGlob.shape[0]):\n",
    "    a[k, k] = np.sqrt(a[k, k])\n",
    "    for i in range(k + 1, KGlob.shape[0]):\n",
    "        a[i, k] = a[i, k] / a[k, k]\n",
    "    for j in range(k + 1, KGlob.shape[0]):\n",
    "        a[i, j] = a[i, j] - a[i, k] * a[j, k]\n",
    "for i in range(KGlob.shape[0]):\n",
    "    for j in range(i + 1, KGlob.shape[0]):\n",
    "        a[i, j] = 0\n",
    "L = a\n",
    "M = L @ L"
   ]
  },
  {
   "cell_type": "code",
   "execution_count": 467,
   "metadata": {},
   "outputs": [
    {
     "output_type": "execute_result",
     "data": {
      "text/plain": [
       "2.6953837190135714e-13"
      ]
     },
     "metadata": {},
     "execution_count": 467
    }
   ],
   "source": [
    "x = np.linalg.solve(np.linalg.inv(M) @ KGlob, np.linalg.inv(M) @ f)\n",
    "np.linalg.norm(KGlob @ x - f)"
   ]
  },
  {
   "cell_type": "code",
   "execution_count": 468,
   "metadata": {},
   "outputs": [],
   "source": [
    "(P, L, U) = scipy.linalg.lu(KGlob)\n",
    "KGlobEstimate = P @ L @ np.diag(np.diag(U)) @ L.transpose()\n",
    "M = KGlobEstimate\n",
    "# M"
   ]
  },
  {
   "cell_type": "code",
   "execution_count": 469,
   "metadata": {},
   "outputs": [],
   "source": [
    "M = np.diag(np.diag(KGlobEstimate))"
   ]
  },
  {
   "cell_type": "code",
   "execution_count": 470,
   "metadata": {},
   "outputs": [
    {
     "output_type": "execute_result",
     "data": {
      "text/plain": [
       "(1525.4242712194718, 48372.46972395285)"
      ]
     },
     "metadata": {},
     "execution_count": 470
    }
   ],
   "source": [
    "np.linalg.cond(KGlob), np.linalg.cond(np.linalg.inv(M) @ KGlob)"
   ]
  },
  {
   "cell_type": "code",
   "execution_count": 471,
   "metadata": {},
   "outputs": [
    {
     "output_type": "stream",
     "name": "stdout",
     "text": [
      "61 5.032955315816819e-13\n"
     ]
    }
   ],
   "source": [
    "# https://en.wikipedia.org/wiki/Conjugate_gradient_method\n",
    "\n",
    "L = np.eye(KGlob.shape[0])\n",
    "KGlob = KGlobBack\n",
    "# KGlob = np.eye(KGlob.shape[0])\n",
    "\n",
    "L = np.linalg.inv(M)\n",
    "x_k = np.zeros((KGlob.shape[1], 1))\n",
    "r_k = f - KGlob @ x_k\n",
    "z_k = L @ r_k\n",
    "p_k = z_k\n",
    "for k in range(100000):\n",
    "    alpha_k = r_k.transpose() @ z_k / (p_k.transpose() @ KGlob @ p_k)\n",
    "    x_k1 = x_k + alpha_k * p_k\n",
    "    r_k1 = r_k - alpha_k * KGlob @ p_k\n",
    "    if np.linalg.norm(r_k1) < 1e-20:\n",
    "        break\n",
    "    z_k1 = L @ r_k1\n",
    "    beta_k = r_k1.transpose() @ z_k1 / (r_k.transpose() @ z_k)\n",
    "    p_k1 = z_k1 + beta_k * p_k\n",
    "    x_k = x_k1\n",
    "    r_k = r_k1\n",
    "    p_k = p_k1\n",
    "    z_k = z_k1\n",
    "# x_k1 = L @ x_k1\n",
    "print(k, np.linalg.norm(KGlob @ x_k1 - f))\n",
    "eps = x_k1"
   ]
  },
  {
   "cell_type": "code",
   "execution_count": 472,
   "metadata": {},
   "outputs": [
    {
     "output_type": "execute_result",
     "data": {
      "text/plain": [
       "(63.24555334534536, 0)"
      ]
     },
     "metadata": {},
     "execution_count": 472
    }
   ],
   "source": [
    "from scipy.sparse.linalg import cg\n",
    "x, info = cg(KGlob, f)\n",
    "np.linalg.norm(KGlob @ x - f), info"
   ]
  },
  {
   "cell_type": "code",
   "execution_count": 473,
   "metadata": {},
   "outputs": [],
   "source": [
    "np.linalg.norm(KGlob @ (eps) - f)\n",
    "epsBack = eps\n",
    "fBack = f"
   ]
  },
  {
   "cell_type": "code",
   "execution_count": 474,
   "metadata": {},
   "outputs": [
    {
     "output_type": "execute_result",
     "data": {
      "text/plain": [
       "((21, 1), (21, 1))"
      ]
     },
     "metadata": {},
     "execution_count": 474
    }
   ],
   "source": [
    "epsBack.shape, eps.shape"
   ]
  },
  {
   "cell_type": "code",
   "execution_count": 475,
   "metadata": {},
   "outputs": [
    {
     "output_type": "execute_result",
     "data": {
      "text/plain": [
       "(array([[-0.109],\n",
       "        [ 0.916],\n",
       "        [-0.109],\n",
       "        [ 0.604],\n",
       "        [ 0.196],\n",
       "        [ 0.613],\n",
       "        [ 0.202],\n",
       "        [ 0.917],\n",
       "        [-0.085],\n",
       "        [ 0.184],\n",
       "        [ 0.157],\n",
       "        [ 0.151],\n",
       "        [ 0.796],\n",
       "        [ 0.091],\n",
       "        [ 0.78 ],\n",
       "        [ 0.685],\n",
       "        [ 1.47 ],\n",
       "        [ 0.08 ],\n",
       "        [ 1.48 ],\n",
       "        [ 0.693],\n",
       "        [ 0.093]]), array([[-0.109],\n",
       "        [ 0.916],\n",
       "        [-0.109],\n",
       "        [ 0.604],\n",
       "        [ 0.196],\n",
       "        [ 0.613],\n",
       "        [ 0.202],\n",
       "        [ 0.917],\n",
       "        [-0.085],\n",
       "        [ 0.184],\n",
       "        [ 0.157],\n",
       "        [ 0.151],\n",
       "        [ 0.796],\n",
       "        [ 0.091],\n",
       "        [ 0.78 ],\n",
       "        [ 0.685],\n",
       "        [ 1.47 ],\n",
       "        [ 0.08 ],\n",
       "        [ 1.48 ],\n",
       "        [ 0.693],\n",
       "        [ 0.093]]))"
      ]
     },
     "metadata": {},
     "execution_count": 475
    }
   ],
   "source": [
    "eps, epsBack"
   ]
  },
  {
   "cell_type": "code",
   "execution_count": 476,
   "metadata": {},
   "outputs": [
    {
     "output_type": "execute_result",
     "data": {
      "text/plain": [
       "((24, 1), (24, 1), 12)"
      ]
     },
     "metadata": {},
     "execution_count": 476
    },
    {
     "output_type": "display_data",
     "data": {
      "text/plain": "<Figure size 864x864 with 1 Axes>",
      "image/svg+xml": "<?xml version=\"1.0\" encoding=\"utf-8\" standalone=\"no\"?>\n<!DOCTYPE svg PUBLIC \"-//W3C//DTD SVG 1.1//EN\"\n  \"http://www.w3.org/Graphics/SVG/1.1/DTD/svg11.dtd\">\n<!-- Created with matplotlib (https://matplotlib.org/) -->\n<svg height=\"687.197344pt\" version=\"1.1\" viewBox=\"0 0 691.643437 687.197344\" width=\"691.643437pt\" xmlns=\"http://www.w3.org/2000/svg\" xmlns:xlink=\"http://www.w3.org/1999/xlink\">\n <defs>\n  <style type=\"text/css\">\n*{stroke-linecap:butt;stroke-linejoin:round;}\n  </style>\n </defs>\n <g id=\"figure_1\">\n  <g id=\"patch_1\">\n   <path d=\"M 0 687.197344 \nL 691.643437 687.197344 \nL 691.643437 0 \nL 0 0 \nz\n\" style=\"fill:none;\"/>\n  </g>\n  <g id=\"axes_1\">\n   <g id=\"patch_2\">\n    <path d=\"M 28.942188 663.319219 \nL 681.262187 663.319219 \nL 681.262187 10.999219 \nL 28.942188 10.999219 \nz\n\" style=\"fill:#ffffff;\"/>\n   </g>\n   <g id=\"matplotlib.axis_1\">\n    <g id=\"xtick_1\">\n     <g id=\"line2d_1\">\n      <defs>\n       <path d=\"M 0 0 \nL 0 3.5 \n\" id=\"mb3942ef448\" style=\"stroke:#000000;stroke-width:0.8;\"/>\n      </defs>\n      <g>\n       <use style=\"stroke:#000000;stroke-width:0.8;\" x=\"28.942188\" xlink:href=\"#mb3942ef448\" y=\"663.319219\"/>\n      </g>\n     </g>\n     <g id=\"text_1\">\n      <!-- −1 -->\n      <defs>\n       <path d=\"M 10.59375 35.5 \nL 73.1875 35.5 \nL 73.1875 27.203125 \nL 10.59375 27.203125 \nz\n\" id=\"DejaVuSans-8722\"/>\n       <path d=\"M 12.40625 8.296875 \nL 28.515625 8.296875 \nL 28.515625 63.921875 \nL 10.984375 60.40625 \nL 10.984375 69.390625 \nL 28.421875 72.90625 \nL 38.28125 72.90625 \nL 38.28125 8.296875 \nL 54.390625 8.296875 \nL 54.390625 0 \nL 12.40625 0 \nz\n\" id=\"DejaVuSans-49\"/>\n      </defs>\n      <g transform=\"translate(21.571094 677.917656)scale(0.1 -0.1)\">\n       <use xlink:href=\"#DejaVuSans-8722\"/>\n       <use x=\"83.789062\" xlink:href=\"#DejaVuSans-49\"/>\n      </g>\n     </g>\n    </g>\n    <g id=\"xtick_2\">\n     <g id=\"line2d_2\">\n      <g>\n       <use style=\"stroke:#000000;stroke-width:0.8;\" x=\"137.662188\" xlink:href=\"#mb3942ef448\" y=\"663.319219\"/>\n      </g>\n     </g>\n     <g id=\"text_2\">\n      <!-- 0 -->\n      <defs>\n       <path d=\"M 31.78125 66.40625 \nQ 24.171875 66.40625 20.328125 58.90625 \nQ 16.5 51.421875 16.5 36.375 \nQ 16.5 21.390625 20.328125 13.890625 \nQ 24.171875 6.390625 31.78125 6.390625 \nQ 39.453125 6.390625 43.28125 13.890625 \nQ 47.125 21.390625 47.125 36.375 \nQ 47.125 51.421875 43.28125 58.90625 \nQ 39.453125 66.40625 31.78125 66.40625 \nz\nM 31.78125 74.21875 \nQ 44.046875 74.21875 50.515625 64.515625 \nQ 56.984375 54.828125 56.984375 36.375 \nQ 56.984375 17.96875 50.515625 8.265625 \nQ 44.046875 -1.421875 31.78125 -1.421875 \nQ 19.53125 -1.421875 13.0625 8.265625 \nQ 6.59375 17.96875 6.59375 36.375 \nQ 6.59375 54.828125 13.0625 64.515625 \nQ 19.53125 74.21875 31.78125 74.21875 \nz\n\" id=\"DejaVuSans-48\"/>\n      </defs>\n      <g transform=\"translate(134.480938 677.917656)scale(0.1 -0.1)\">\n       <use xlink:href=\"#DejaVuSans-48\"/>\n      </g>\n     </g>\n    </g>\n    <g id=\"xtick_3\">\n     <g id=\"line2d_3\">\n      <g>\n       <use style=\"stroke:#000000;stroke-width:0.8;\" x=\"246.382187\" xlink:href=\"#mb3942ef448\" y=\"663.319219\"/>\n      </g>\n     </g>\n     <g id=\"text_3\">\n      <!-- 1 -->\n      <g transform=\"translate(243.200937 677.917656)scale(0.1 -0.1)\">\n       <use xlink:href=\"#DejaVuSans-49\"/>\n      </g>\n     </g>\n    </g>\n    <g id=\"xtick_4\">\n     <g id=\"line2d_4\">\n      <g>\n       <use style=\"stroke:#000000;stroke-width:0.8;\" x=\"355.102188\" xlink:href=\"#mb3942ef448\" y=\"663.319219\"/>\n      </g>\n     </g>\n     <g id=\"text_4\">\n      <!-- 2 -->\n      <defs>\n       <path d=\"M 19.1875 8.296875 \nL 53.609375 8.296875 \nL 53.609375 0 \nL 7.328125 0 \nL 7.328125 8.296875 \nQ 12.9375 14.109375 22.625 23.890625 \nQ 32.328125 33.6875 34.8125 36.53125 \nQ 39.546875 41.84375 41.421875 45.53125 \nQ 43.3125 49.21875 43.3125 52.78125 \nQ 43.3125 58.59375 39.234375 62.25 \nQ 35.15625 65.921875 28.609375 65.921875 \nQ 23.96875 65.921875 18.8125 64.3125 \nQ 13.671875 62.703125 7.8125 59.421875 \nL 7.8125 69.390625 \nQ 13.765625 71.78125 18.9375 73 \nQ 24.125 74.21875 28.421875 74.21875 \nQ 39.75 74.21875 46.484375 68.546875 \nQ 53.21875 62.890625 53.21875 53.421875 \nQ 53.21875 48.921875 51.53125 44.890625 \nQ 49.859375 40.875 45.40625 35.40625 \nQ 44.1875 33.984375 37.640625 27.21875 \nQ 31.109375 20.453125 19.1875 8.296875 \nz\n\" id=\"DejaVuSans-50\"/>\n      </defs>\n      <g transform=\"translate(351.920938 677.917656)scale(0.1 -0.1)\">\n       <use xlink:href=\"#DejaVuSans-50\"/>\n      </g>\n     </g>\n    </g>\n    <g id=\"xtick_5\">\n     <g id=\"line2d_5\">\n      <g>\n       <use style=\"stroke:#000000;stroke-width:0.8;\" x=\"463.822187\" xlink:href=\"#mb3942ef448\" y=\"663.319219\"/>\n      </g>\n     </g>\n     <g id=\"text_5\">\n      <!-- 3 -->\n      <defs>\n       <path d=\"M 40.578125 39.3125 \nQ 47.65625 37.796875 51.625 33 \nQ 55.609375 28.21875 55.609375 21.1875 \nQ 55.609375 10.40625 48.1875 4.484375 \nQ 40.765625 -1.421875 27.09375 -1.421875 \nQ 22.515625 -1.421875 17.65625 -0.515625 \nQ 12.796875 0.390625 7.625 2.203125 \nL 7.625 11.71875 \nQ 11.71875 9.328125 16.59375 8.109375 \nQ 21.484375 6.890625 26.8125 6.890625 \nQ 36.078125 6.890625 40.9375 10.546875 \nQ 45.796875 14.203125 45.796875 21.1875 \nQ 45.796875 27.640625 41.28125 31.265625 \nQ 36.765625 34.90625 28.71875 34.90625 \nL 20.21875 34.90625 \nL 20.21875 43.015625 \nL 29.109375 43.015625 \nQ 36.375 43.015625 40.234375 45.921875 \nQ 44.09375 48.828125 44.09375 54.296875 \nQ 44.09375 59.90625 40.109375 62.90625 \nQ 36.140625 65.921875 28.71875 65.921875 \nQ 24.65625 65.921875 20.015625 65.03125 \nQ 15.375 64.15625 9.8125 62.3125 \nL 9.8125 71.09375 \nQ 15.4375 72.65625 20.34375 73.4375 \nQ 25.25 74.21875 29.59375 74.21875 \nQ 40.828125 74.21875 47.359375 69.109375 \nQ 53.90625 64.015625 53.90625 55.328125 \nQ 53.90625 49.265625 50.4375 45.09375 \nQ 46.96875 40.921875 40.578125 39.3125 \nz\n\" id=\"DejaVuSans-51\"/>\n      </defs>\n      <g transform=\"translate(460.640938 677.917656)scale(0.1 -0.1)\">\n       <use xlink:href=\"#DejaVuSans-51\"/>\n      </g>\n     </g>\n    </g>\n    <g id=\"xtick_6\">\n     <g id=\"line2d_6\">\n      <g>\n       <use style=\"stroke:#000000;stroke-width:0.8;\" x=\"572.542187\" xlink:href=\"#mb3942ef448\" y=\"663.319219\"/>\n      </g>\n     </g>\n     <g id=\"text_6\">\n      <!-- 4 -->\n      <defs>\n       <path d=\"M 37.796875 64.3125 \nL 12.890625 25.390625 \nL 37.796875 25.390625 \nz\nM 35.203125 72.90625 \nL 47.609375 72.90625 \nL 47.609375 25.390625 \nL 58.015625 25.390625 \nL 58.015625 17.1875 \nL 47.609375 17.1875 \nL 47.609375 0 \nL 37.796875 0 \nL 37.796875 17.1875 \nL 4.890625 17.1875 \nL 4.890625 26.703125 \nz\n\" id=\"DejaVuSans-52\"/>\n      </defs>\n      <g transform=\"translate(569.360937 677.917656)scale(0.1 -0.1)\">\n       <use xlink:href=\"#DejaVuSans-52\"/>\n      </g>\n     </g>\n    </g>\n    <g id=\"xtick_7\">\n     <g id=\"line2d_7\">\n      <g>\n       <use style=\"stroke:#000000;stroke-width:0.8;\" x=\"681.262187\" xlink:href=\"#mb3942ef448\" y=\"663.319219\"/>\n      </g>\n     </g>\n     <g id=\"text_7\">\n      <!-- 5 -->\n      <defs>\n       <path d=\"M 10.796875 72.90625 \nL 49.515625 72.90625 \nL 49.515625 64.59375 \nL 19.828125 64.59375 \nL 19.828125 46.734375 \nQ 21.96875 47.46875 24.109375 47.828125 \nQ 26.265625 48.1875 28.421875 48.1875 \nQ 40.625 48.1875 47.75 41.5 \nQ 54.890625 34.8125 54.890625 23.390625 \nQ 54.890625 11.625 47.5625 5.09375 \nQ 40.234375 -1.421875 26.90625 -1.421875 \nQ 22.3125 -1.421875 17.546875 -0.640625 \nQ 12.796875 0.140625 7.71875 1.703125 \nL 7.71875 11.625 \nQ 12.109375 9.234375 16.796875 8.0625 \nQ 21.484375 6.890625 26.703125 6.890625 \nQ 35.15625 6.890625 40.078125 11.328125 \nQ 45.015625 15.765625 45.015625 23.390625 \nQ 45.015625 31 40.078125 35.4375 \nQ 35.15625 39.890625 26.703125 39.890625 \nQ 22.75 39.890625 18.8125 39.015625 \nQ 14.890625 38.140625 10.796875 36.28125 \nz\n\" id=\"DejaVuSans-53\"/>\n      </defs>\n      <g transform=\"translate(678.080938 677.917656)scale(0.1 -0.1)\">\n       <use xlink:href=\"#DejaVuSans-53\"/>\n      </g>\n     </g>\n    </g>\n   </g>\n   <g id=\"matplotlib.axis_2\">\n    <g id=\"ytick_1\">\n     <g id=\"line2d_8\">\n      <defs>\n       <path d=\"M 0 0 \nL -3.5 0 \n\" id=\"m6c1fffd38f\" style=\"stroke:#000000;stroke-width:0.8;\"/>\n      </defs>\n      <g>\n       <use style=\"stroke:#000000;stroke-width:0.8;\" x=\"28.942188\" xlink:href=\"#m6c1fffd38f\" y=\"663.319219\"/>\n      </g>\n     </g>\n     <g id=\"text_8\">\n      <!-- −1 -->\n      <g transform=\"translate(7.2 667.118437)scale(0.1 -0.1)\">\n       <use xlink:href=\"#DejaVuSans-8722\"/>\n       <use x=\"83.789062\" xlink:href=\"#DejaVuSans-49\"/>\n      </g>\n     </g>\n    </g>\n    <g id=\"ytick_2\">\n     <g id=\"line2d_9\">\n      <g>\n       <use style=\"stroke:#000000;stroke-width:0.8;\" x=\"28.942188\" xlink:href=\"#m6c1fffd38f\" y=\"554.599219\"/>\n      </g>\n     </g>\n     <g id=\"text_9\">\n      <!-- 0 -->\n      <g transform=\"translate(15.579688 558.398437)scale(0.1 -0.1)\">\n       <use xlink:href=\"#DejaVuSans-48\"/>\n      </g>\n     </g>\n    </g>\n    <g id=\"ytick_3\">\n     <g id=\"line2d_10\">\n      <g>\n       <use style=\"stroke:#000000;stroke-width:0.8;\" x=\"28.942188\" xlink:href=\"#m6c1fffd38f\" y=\"445.879219\"/>\n      </g>\n     </g>\n     <g id=\"text_10\">\n      <!-- 1 -->\n      <g transform=\"translate(15.579688 449.678437)scale(0.1 -0.1)\">\n       <use xlink:href=\"#DejaVuSans-49\"/>\n      </g>\n     </g>\n    </g>\n    <g id=\"ytick_4\">\n     <g id=\"line2d_11\">\n      <g>\n       <use style=\"stroke:#000000;stroke-width:0.8;\" x=\"28.942188\" xlink:href=\"#m6c1fffd38f\" y=\"337.159219\"/>\n      </g>\n     </g>\n     <g id=\"text_11\">\n      <!-- 2 -->\n      <g transform=\"translate(15.579688 340.958437)scale(0.1 -0.1)\">\n       <use xlink:href=\"#DejaVuSans-50\"/>\n      </g>\n     </g>\n    </g>\n    <g id=\"ytick_5\">\n     <g id=\"line2d_12\">\n      <g>\n       <use style=\"stroke:#000000;stroke-width:0.8;\" x=\"28.942188\" xlink:href=\"#m6c1fffd38f\" y=\"228.439219\"/>\n      </g>\n     </g>\n     <g id=\"text_12\">\n      <!-- 3 -->\n      <g transform=\"translate(15.579688 232.238437)scale(0.1 -0.1)\">\n       <use xlink:href=\"#DejaVuSans-51\"/>\n      </g>\n     </g>\n    </g>\n    <g id=\"ytick_6\">\n     <g id=\"line2d_13\">\n      <g>\n       <use style=\"stroke:#000000;stroke-width:0.8;\" x=\"28.942188\" xlink:href=\"#m6c1fffd38f\" y=\"119.719219\"/>\n      </g>\n     </g>\n     <g id=\"text_13\">\n      <!-- 4 -->\n      <g transform=\"translate(15.579688 123.518437)scale(0.1 -0.1)\">\n       <use xlink:href=\"#DejaVuSans-52\"/>\n      </g>\n     </g>\n    </g>\n    <g id=\"ytick_7\">\n     <g id=\"line2d_14\">\n      <g>\n       <use style=\"stroke:#000000;stroke-width:0.8;\" x=\"28.942188\" xlink:href=\"#m6c1fffd38f\" y=\"10.999219\"/>\n      </g>\n     </g>\n     <g id=\"text_14\">\n      <!-- 5 -->\n      <g transform=\"translate(15.579688 14.798437)scale(0.1 -0.1)\">\n       <use xlink:href=\"#DejaVuSans-53\"/>\n      </g>\n     </g>\n    </g>\n   </g>\n   <g id=\"line2d_15\">\n    <path clip-path=\"url(#p0b6c6a5ca8)\" d=\"M 137.662188 554.599219 \nL 246.382187 554.599219 \n\" style=\"fill:none;stroke:#008000;stroke-linecap:square;stroke-width:1.5;\"/>\n   </g>\n   <g id=\"line2d_16\">\n    <path clip-path=\"url(#p0b6c6a5ca8)\" d=\"M 246.382187 554.599219 \nL 246.382187 445.879219 \n\" style=\"fill:none;stroke:#008000;stroke-linecap:square;stroke-width:1.5;\"/>\n   </g>\n   <g id=\"line2d_17\">\n    <path clip-path=\"url(#p0b6c6a5ca8)\" d=\"M 246.382187 445.879219 \nL 137.662188 445.879219 \n\" style=\"fill:none;stroke:#008000;stroke-linecap:square;stroke-width:1.5;\"/>\n   </g>\n   <g id=\"line2d_18\">\n    <path clip-path=\"url(#p0b6c6a5ca8)\" d=\"M 137.662188 445.879219 \nL 137.662188 554.599219 \n\" style=\"fill:none;stroke:#008000;stroke-linecap:square;stroke-width:1.5;\"/>\n   </g>\n   <g id=\"line2d_19\">\n    <path clip-path=\"url(#p0b6c6a5ca8)\" d=\"M 246.382187 554.599219 \nL 137.662188 445.879219 \n\" style=\"fill:none;stroke:#008000;stroke-linecap:square;stroke-width:1.5;\"/>\n   </g>\n   <g id=\"line2d_20\">\n    <path clip-path=\"url(#p0b6c6a5ca8)\" d=\"M 246.382187 554.599219 \nL 355.102188 554.599219 \n\" style=\"fill:none;stroke:#008000;stroke-linecap:square;stroke-width:1.5;\"/>\n   </g>\n   <g id=\"line2d_21\">\n    <path clip-path=\"url(#p0b6c6a5ca8)\" d=\"M 355.102188 554.599219 \nL 355.102188 445.879219 \n\" style=\"fill:none;stroke:#008000;stroke-linecap:square;stroke-width:1.5;\"/>\n   </g>\n   <g id=\"line2d_22\">\n    <path clip-path=\"url(#p0b6c6a5ca8)\" d=\"M 355.102188 445.879219 \nL 246.382187 445.879219 \n\" style=\"fill:none;stroke:#008000;stroke-linecap:square;stroke-width:1.5;\"/>\n   </g>\n   <g id=\"line2d_23\">\n    <path clip-path=\"url(#p0b6c6a5ca8)\" d=\"M 246.382187 445.879219 \nL 246.382187 554.599219 \n\" style=\"fill:none;stroke:#008000;stroke-linecap:square;stroke-width:1.5;\"/>\n   </g>\n   <g id=\"line2d_24\">\n    <path clip-path=\"url(#p0b6c6a5ca8)\" d=\"M 355.102188 554.599219 \nL 246.382187 445.879219 \n\" style=\"fill:none;stroke:#008000;stroke-linecap:square;stroke-width:1.5;\"/>\n   </g>\n   <g id=\"line2d_25\">\n    <path clip-path=\"url(#p0b6c6a5ca8)\" d=\"M 246.382187 445.879219 \nL 355.102188 445.879219 \n\" style=\"fill:none;stroke:#008000;stroke-linecap:square;stroke-width:1.5;\"/>\n   </g>\n   <g id=\"line2d_26\">\n    <path clip-path=\"url(#p0b6c6a5ca8)\" d=\"M 355.102188 445.879219 \nL 355.102188 337.159219 \n\" style=\"fill:none;stroke:#008000;stroke-linecap:square;stroke-width:1.5;\"/>\n   </g>\n   <g id=\"line2d_27\">\n    <path clip-path=\"url(#p0b6c6a5ca8)\" d=\"M 355.102188 337.159219 \nL 246.382187 337.159219 \n\" style=\"fill:none;stroke:#008000;stroke-linecap:square;stroke-width:1.5;\"/>\n   </g>\n   <g id=\"line2d_28\">\n    <path clip-path=\"url(#p0b6c6a5ca8)\" d=\"M 246.382187 337.159219 \nL 246.382187 445.879219 \n\" style=\"fill:none;stroke:#008000;stroke-linecap:square;stroke-width:1.5;\"/>\n   </g>\n   <g id=\"line2d_29\">\n    <path clip-path=\"url(#p0b6c6a5ca8)\" d=\"M 355.102188 445.879219 \nL 246.382187 337.159219 \n\" style=\"fill:none;stroke:#008000;stroke-linecap:square;stroke-width:1.5;\"/>\n   </g>\n   <g id=\"line2d_30\">\n    <path clip-path=\"url(#p0b6c6a5ca8)\" d=\"M 246.382187 337.159219 \nL 355.102188 337.159219 \n\" style=\"fill:none;stroke:#008000;stroke-linecap:square;stroke-width:1.5;\"/>\n   </g>\n   <g id=\"line2d_31\">\n    <path clip-path=\"url(#p0b6c6a5ca8)\" d=\"M 355.102188 337.159219 \nL 355.102188 228.439219 \n\" style=\"fill:none;stroke:#008000;stroke-linecap:square;stroke-width:1.5;\"/>\n   </g>\n   <g id=\"line2d_32\">\n    <path clip-path=\"url(#p0b6c6a5ca8)\" d=\"M 355.102188 228.439219 \nL 246.382187 228.439219 \n\" style=\"fill:none;stroke:#008000;stroke-linecap:square;stroke-width:1.5;\"/>\n   </g>\n   <g id=\"line2d_33\">\n    <path clip-path=\"url(#p0b6c6a5ca8)\" d=\"M 246.382187 228.439219 \nL 246.382187 337.159219 \n\" style=\"fill:none;stroke:#008000;stroke-linecap:square;stroke-width:1.5;\"/>\n   </g>\n   <g id=\"line2d_34\">\n    <path clip-path=\"url(#p0b6c6a5ca8)\" d=\"M 355.102188 337.159219 \nL 246.382187 228.439219 \n\" style=\"fill:none;stroke:#008000;stroke-linecap:square;stroke-width:1.5;\"/>\n   </g>\n   <g id=\"line2d_35\">\n    <path clip-path=\"url(#p0b6c6a5ca8)\" d=\"M 355.102188 554.599219 \nL 463.822187 554.599219 \n\" style=\"fill:none;stroke:#008000;stroke-linecap:square;stroke-width:1.5;\"/>\n   </g>\n   <g id=\"line2d_36\">\n    <path clip-path=\"url(#p0b6c6a5ca8)\" d=\"M 463.822187 554.599219 \nL 463.822187 445.879219 \n\" style=\"fill:none;stroke:#008000;stroke-linecap:square;stroke-width:1.5;\"/>\n   </g>\n   <g id=\"line2d_37\">\n    <path clip-path=\"url(#p0b6c6a5ca8)\" d=\"M 463.822187 445.879219 \nL 355.102188 445.879219 \n\" style=\"fill:none;stroke:#008000;stroke-linecap:square;stroke-width:1.5;\"/>\n   </g>\n   <g id=\"line2d_38\">\n    <path clip-path=\"url(#p0b6c6a5ca8)\" d=\"M 355.102188 445.879219 \nL 355.102188 554.599219 \n\" style=\"fill:none;stroke:#008000;stroke-linecap:square;stroke-width:1.5;\"/>\n   </g>\n   <g id=\"line2d_39\">\n    <path clip-path=\"url(#p0b6c6a5ca8)\" d=\"M 463.822187 554.599219 \nL 355.102188 445.879219 \n\" style=\"fill:none;stroke:#008000;stroke-linecap:square;stroke-width:1.5;\"/>\n   </g>\n   <g id=\"line2d_40\">\n    <path clip-path=\"url(#p0b6c6a5ca8)\" d=\"M 137.662188 554.599219 \nL 245.192847 554.599219 \n\" style=\"fill:none;stroke:#ff0000;stroke-linecap:square;stroke-width:1.5;\"/>\n   </g>\n   <g id=\"line2d_41\">\n    <path clip-path=\"url(#p0b6c6a5ca8)\" d=\"M 245.192847 554.599219 \nL 256.34327 447.065283 \n\" style=\"fill:none;stroke:#ff0000;stroke-linecap:square;stroke-width:1.5;\"/>\n   </g>\n   <g id=\"line2d_42\">\n    <path clip-path=\"url(#p0b6c6a5ca8)\" d=\"M 256.34327 447.065283 \nL 144.223542 443.744181 \n\" style=\"fill:none;stroke:#ff0000;stroke-linecap:square;stroke-width:1.5;\"/>\n   </g>\n   <g id=\"line2d_43\">\n    <path clip-path=\"url(#p0b6c6a5ca8)\" d=\"M 144.223542 443.744181 \nL 137.662188 554.599219 \n\" style=\"fill:none;stroke:#ff0000;stroke-linecap:square;stroke-width:1.5;\"/>\n   </g>\n   <g id=\"line2d_44\">\n    <path clip-path=\"url(#p0b6c6a5ca8)\" d=\"M 245.192847 554.599219 \nL 144.223542 443.744181 \n\" style=\"fill:none;stroke:#ff0000;stroke-linecap:square;stroke-width:1.5;\"/>\n   </g>\n   <g id=\"line2d_45\">\n    <path clip-path=\"url(#p0b6c6a5ca8)\" d=\"M 245.192847 554.599219 \nL 361.765101 552.408488 \n\" style=\"fill:none;stroke:#ff0000;stroke-linecap:square;stroke-width:1.5;\"/>\n   </g>\n   <g id=\"line2d_46\">\n    <path clip-path=\"url(#p0b6c6a5ca8)\" d=\"M 361.765101 552.408488 \nL 365.066546 446.806471 \n\" style=\"fill:none;stroke:#ff0000;stroke-linecap:square;stroke-width:1.5;\"/>\n   </g>\n   <g id=\"line2d_47\">\n    <path clip-path=\"url(#p0b6c6a5ca8)\" d=\"M 365.066546 446.806471 \nL 256.34327 447.065283 \n\" style=\"fill:none;stroke:#ff0000;stroke-linecap:square;stroke-width:1.5;\"/>\n   </g>\n   <g id=\"line2d_48\">\n    <path clip-path=\"url(#p0b6c6a5ca8)\" d=\"M 256.34327 447.065283 \nL 245.192847 554.599219 \n\" style=\"fill:none;stroke:#ff0000;stroke-linecap:square;stroke-width:1.5;\"/>\n   </g>\n   <g id=\"line2d_49\">\n    <path clip-path=\"url(#p0b6c6a5ca8)\" d=\"M 361.765101 552.408488 \nL 256.34327 447.065283 \n\" style=\"fill:none;stroke:#ff0000;stroke-linecap:square;stroke-width:1.5;\"/>\n   </g>\n   <g id=\"line2d_50\">\n    <path clip-path=\"url(#p0b6c6a5ca8)\" d=\"M 256.34327 447.065283 \nL 365.066546 446.806471 \n\" style=\"fill:none;stroke:#ff0000;stroke-linecap:square;stroke-width:1.5;\"/>\n   </g>\n   <g id=\"line2d_51\">\n    <path clip-path=\"url(#p0b6c6a5ca8)\" d=\"M 365.066546 446.806471 \nL 357.104073 335.452557 \n\" style=\"fill:none;stroke:#ff0000;stroke-linecap:square;stroke-width:1.5;\"/>\n   </g>\n   <g id=\"line2d_52\">\n    <path clip-path=\"url(#p0b6c6a5ca8)\" d=\"M 357.104073 335.452557 \nL 248.025554 328.507392 \n\" style=\"fill:none;stroke:#ff0000;stroke-linecap:square;stroke-width:1.5;\"/>\n   </g>\n   <g id=\"line2d_53\">\n    <path clip-path=\"url(#p0b6c6a5ca8)\" d=\"M 248.025554 328.507392 \nL 256.34327 447.065283 \n\" style=\"fill:none;stroke:#ff0000;stroke-linecap:square;stroke-width:1.5;\"/>\n   </g>\n   <g id=\"line2d_54\">\n    <path clip-path=\"url(#p0b6c6a5ca8)\" d=\"M 365.066546 446.806471 \nL 248.025554 328.507392 \n\" style=\"fill:none;stroke:#ff0000;stroke-linecap:square;stroke-width:1.5;\"/>\n   </g>\n   <g id=\"line2d_55\">\n    <path clip-path=\"url(#p0b6c6a5ca8)\" d=\"M 248.025554 328.507392 \nL 357.104073 335.452557 \n\" style=\"fill:none;stroke:#ff0000;stroke-linecap:square;stroke-width:1.5;\"/>\n   </g>\n   <g id=\"line2d_56\">\n    <path clip-path=\"url(#p0b6c6a5ca8)\" d=\"M 357.104073 335.452557 \nL 356.08888 219.954039 \n\" style=\"fill:none;stroke:#ff0000;stroke-linecap:square;stroke-width:1.5;\"/>\n   </g>\n   <g id=\"line2d_57\">\n    <path clip-path=\"url(#p0b6c6a5ca8)\" d=\"M 356.08888 219.954039 \nL 253.83264 212.458972 \n\" style=\"fill:none;stroke:#ff0000;stroke-linecap:square;stroke-width:1.5;\"/>\n   </g>\n   <g id=\"line2d_58\">\n    <path clip-path=\"url(#p0b6c6a5ca8)\" d=\"M 253.83264 212.458972 \nL 248.025554 328.507392 \n\" style=\"fill:none;stroke:#ff0000;stroke-linecap:square;stroke-width:1.5;\"/>\n   </g>\n   <g id=\"line2d_59\">\n    <path clip-path=\"url(#p0b6c6a5ca8)\" d=\"M 357.104073 335.452557 \nL 253.83264 212.458972 \n\" style=\"fill:none;stroke:#ff0000;stroke-linecap:square;stroke-width:1.5;\"/>\n   </g>\n   <g id=\"line2d_60\">\n    <path clip-path=\"url(#p0b6c6a5ca8)\" d=\"M 361.765101 552.408488 \nL 464.697352 538.507444 \n\" style=\"fill:none;stroke:#ff0000;stroke-linecap:square;stroke-width:1.5;\"/>\n   </g>\n   <g id=\"line2d_61\">\n    <path clip-path=\"url(#p0b6c6a5ca8)\" d=\"M 464.697352 538.507444 \nL 471.356608 444.867881 \n\" style=\"fill:none;stroke:#ff0000;stroke-linecap:square;stroke-width:1.5;\"/>\n   </g>\n   <g id=\"line2d_62\">\n    <path clip-path=\"url(#p0b6c6a5ca8)\" d=\"M 471.356608 444.867881 \nL 365.066546 446.806471 \n\" style=\"fill:none;stroke:#ff0000;stroke-linecap:square;stroke-width:1.5;\"/>\n   </g>\n   <g id=\"line2d_63\">\n    <path clip-path=\"url(#p0b6c6a5ca8)\" d=\"M 365.066546 446.806471 \nL 361.765101 552.408488 \n\" style=\"fill:none;stroke:#ff0000;stroke-linecap:square;stroke-width:1.5;\"/>\n   </g>\n   <g id=\"line2d_64\">\n    <path clip-path=\"url(#p0b6c6a5ca8)\" d=\"M 464.697352 538.507444 \nL 365.066546 446.806471 \n\" style=\"fill:none;stroke:#ff0000;stroke-linecap:square;stroke-width:1.5;\"/>\n   </g>\n   <g id=\"line2d_65\">\n    <path clip-path=\"url(#p0b6c6a5ca8)\" d=\"M 137.662188 554.599219 \nL 137.662188 554.599219 \n\" style=\"fill:none;stroke:#0000ff;stroke-linecap:square;stroke-width:1.5;\"/>\n   </g>\n   <g id=\"line2d_66\">\n    <path clip-path=\"url(#p0b6c6a5ca8)\" d=\"M 137.662188 554.599219 \nL 137.662188 554.599219 \n\" style=\"fill:none;stroke:#0000ff;stroke-linecap:square;stroke-width:1.5;\"/>\n   </g>\n   <g id=\"line2d_67\">\n    <path clip-path=\"url(#p0b6c6a5ca8)\" d=\"M 245.192847 554.599219 \nL 245.192847 554.599219 \n\" style=\"fill:none;stroke:#0000ff;stroke-linecap:square;stroke-width:1.5;\"/>\n   </g>\n   <g id=\"line2d_68\">\n    <path clip-path=\"url(#p0b6c6a5ca8)\" d=\"M 245.192847 554.599219 \nL 245.192847 554.599219 \n\" style=\"fill:none;stroke:#0000ff;stroke-linecap:square;stroke-width:1.5;\"/>\n   </g>\n   <g id=\"line2d_69\">\n    <path clip-path=\"url(#p0b6c6a5ca8)\" d=\"M 256.34327 447.065283 \nL 256.34327 447.065283 \n\" style=\"fill:none;stroke:#0000ff;stroke-linecap:square;stroke-width:1.5;\"/>\n   </g>\n   <g id=\"line2d_70\">\n    <path clip-path=\"url(#p0b6c6a5ca8)\" d=\"M 256.34327 447.065283 \nL 256.34327 447.065283 \n\" style=\"fill:none;stroke:#0000ff;stroke-linecap:square;stroke-width:1.5;\"/>\n   </g>\n   <g id=\"line2d_71\">\n    <path clip-path=\"url(#p0b6c6a5ca8)\" d=\"M 144.223542 443.744181 \nL 144.223542 443.744181 \n\" style=\"fill:none;stroke:#0000ff;stroke-linecap:square;stroke-width:1.5;\"/>\n   </g>\n   <g id=\"line2d_72\">\n    <path clip-path=\"url(#p0b6c6a5ca8)\" d=\"M 144.223542 443.744181 \nL 144.223542 443.744181 \n\" style=\"fill:none;stroke:#0000ff;stroke-linecap:square;stroke-width:1.5;\"/>\n   </g>\n   <g id=\"line2d_73\">\n    <path clip-path=\"url(#p0b6c6a5ca8)\" d=\"M 361.765101 552.408488 \nL 361.765101 552.408488 \n\" style=\"fill:none;stroke:#0000ff;stroke-linecap:square;stroke-width:1.5;\"/>\n   </g>\n   <g id=\"line2d_74\">\n    <path clip-path=\"url(#p0b6c6a5ca8)\" d=\"M 361.765101 552.408488 \nL 361.765101 552.408488 \n\" style=\"fill:none;stroke:#0000ff;stroke-linecap:square;stroke-width:1.5;\"/>\n   </g>\n   <g id=\"line2d_75\">\n    <path clip-path=\"url(#p0b6c6a5ca8)\" d=\"M 365.066546 446.806471 \nL 365.066546 446.806471 \n\" style=\"fill:none;stroke:#0000ff;stroke-linecap:square;stroke-width:1.5;\"/>\n   </g>\n   <g id=\"line2d_76\">\n    <path clip-path=\"url(#p0b6c6a5ca8)\" d=\"M 365.066546 446.806471 \nL 365.066546 446.806471 \n\" style=\"fill:none;stroke:#0000ff;stroke-linecap:square;stroke-width:1.5;\"/>\n   </g>\n   <g id=\"line2d_77\">\n    <path clip-path=\"url(#p0b6c6a5ca8)\" d=\"M 357.104073 335.452557 \nL 357.104073 335.452557 \n\" style=\"fill:none;stroke:#0000ff;stroke-linecap:square;stroke-width:1.5;\"/>\n   </g>\n   <g id=\"line2d_78\">\n    <path clip-path=\"url(#p0b6c6a5ca8)\" d=\"M 357.104073 335.452557 \nL 357.104073 335.452557 \n\" style=\"fill:none;stroke:#0000ff;stroke-linecap:square;stroke-width:1.5;\"/>\n   </g>\n   <g id=\"line2d_79\">\n    <path clip-path=\"url(#p0b6c6a5ca8)\" d=\"M 248.025554 328.507392 \nL 248.025554 328.507392 \n\" style=\"fill:none;stroke:#0000ff;stroke-linecap:square;stroke-width:1.5;\"/>\n   </g>\n   <g id=\"line2d_80\">\n    <path clip-path=\"url(#p0b6c6a5ca8)\" d=\"M 248.025554 328.507392 \nL 248.025554 328.507392 \n\" style=\"fill:none;stroke:#0000ff;stroke-linecap:square;stroke-width:1.5;\"/>\n   </g>\n   <g id=\"line2d_81\">\n    <path clip-path=\"url(#p0b6c6a5ca8)\" d=\"M 356.08888 219.954039 \nL 356.08888 219.954039 \n\" style=\"fill:none;stroke:#0000ff;stroke-linecap:square;stroke-width:1.5;\"/>\n   </g>\n   <g id=\"line2d_82\">\n    <path clip-path=\"url(#p0b6c6a5ca8)\" d=\"M 356.08888 219.954039 \nL 356.08888 219.954039 \n\" style=\"fill:none;stroke:#0000ff;stroke-linecap:square;stroke-width:1.5;\"/>\n   </g>\n   <g id=\"line2d_83\">\n    <path clip-path=\"url(#p0b6c6a5ca8)\" d=\"M 253.83264 212.458972 \nL 253.83264 212.458972 \n\" style=\"fill:none;stroke:#0000ff;stroke-linecap:square;stroke-width:1.5;\"/>\n   </g>\n   <g id=\"line2d_84\">\n    <path clip-path=\"url(#p0b6c6a5ca8)\" d=\"M 253.83264 212.458972 \nL 253.83264 212.458972 \n\" style=\"fill:none;stroke:#0000ff;stroke-linecap:square;stroke-width:1.5;\"/>\n   </g>\n   <g id=\"line2d_85\">\n    <path clip-path=\"url(#p0b6c6a5ca8)\" d=\"M 464.697352 538.507444 \nL 464.697352 538.507444 \n\" style=\"fill:none;stroke:#0000ff;stroke-linecap:square;stroke-width:1.5;\"/>\n   </g>\n   <g id=\"line2d_86\">\n    <path clip-path=\"url(#p0b6c6a5ca8)\" d=\"M 464.697352 538.507444 \nL 464.697352 520.387444 \n\" style=\"fill:none;stroke:#0000ff;stroke-linecap:square;stroke-width:1.5;\"/>\n   </g>\n   <g id=\"line2d_87\">\n    <path clip-path=\"url(#p0b6c6a5ca8)\" d=\"M 471.356608 444.867881 \nL 471.356608 444.867881 \n\" style=\"fill:none;stroke:#0000ff;stroke-linecap:square;stroke-width:1.5;\"/>\n   </g>\n   <g id=\"line2d_88\">\n    <path clip-path=\"url(#p0b6c6a5ca8)\" d=\"M 471.356608 444.867881 \nL 471.356608 444.867881 \n\" style=\"fill:none;stroke:#0000ff;stroke-linecap:square;stroke-width:1.5;\"/>\n   </g>\n   <g id=\"patch_3\">\n    <path d=\"M 28.942188 663.319219 \nL 28.942188 10.999219 \n\" style=\"fill:none;stroke:#000000;stroke-linecap:square;stroke-linejoin:miter;stroke-width:0.8;\"/>\n   </g>\n   <g id=\"patch_4\">\n    <path d=\"M 681.262187 663.319219 \nL 681.262187 10.999219 \n\" style=\"fill:none;stroke:#000000;stroke-linecap:square;stroke-linejoin:miter;stroke-width:0.8;\"/>\n   </g>\n   <g id=\"patch_5\">\n    <path d=\"M 28.942188 663.319219 \nL 681.262187 663.319219 \n\" style=\"fill:none;stroke:#000000;stroke-linecap:square;stroke-linejoin:miter;stroke-width:0.8;\"/>\n   </g>\n   <g id=\"patch_6\">\n    <path d=\"M 28.942188 10.999219 \nL 681.262187 10.999219 \n\" style=\"fill:none;stroke:#000000;stroke-linecap:square;stroke-linejoin:miter;stroke-width:0.8;\"/>\n   </g>\n  </g>\n </g>\n <defs>\n  <clipPath id=\"p0b6c6a5ca8\">\n   <rect height=\"652.32\" width=\"652.32\" x=\"28.942188\" y=\"10.999219\"/>\n  </clipPath>\n </defs>\n</svg>\n",
      "image/png": "[encoded data removed]"
     },
     "metadata": {
      "needs_background": "light"
     }
    }
   ],
   "source": [
    "eps = np.concatenate((np.array([[0], [0]] + [epsBack[0]] + [[0]]), epsBack[1:]), axis=0)\n",
    "f = np.concatenate((np.array([[0], [0]] + [fBack[0]] + [[0]]), fBack[1:]), axis=0)\n",
    "\n",
    "positions = [\n",
    "    (0, 0), (1, 0), (2, 0), (3, 0), (4, 0),\n",
    "    (0, 1), (1, 1), (2, 1), (3, 1), (4, 1),\n",
    "]\n",
    "\n",
    "positions = positionsIn\n",
    "\n",
    "squares = [\n",
    "    [0, 1, 6, 5, 0],\n",
    "    [1, 2, 7, 6, 1],\n",
    "    [2, 3, 8, 7, 2],\n",
    "    [3, 4, 9, 8, 3]\n",
    "]\n",
    "squares = []\n",
    "for x in range(Field.shape[0]):\n",
    "    for y in range(Field.shape[1]):\n",
    "        if Field[x, y]:\n",
    "            row = []\n",
    "            for edge in edgesOnRectangle:\n",
    "                pos = edge + (x, y)\n",
    "                pos = (pos[0], pos[1])\n",
    "                i = positionsIn.index(pos)\n",
    "                row.append(i)\n",
    "            row.append(row[0])\n",
    "            squares.append(row)\n",
    "scale = 0.1\n",
    "plt.figure(figsize=(12, 12))\n",
    "for square in squares:\n",
    "    for i in range(4):\n",
    "        startI = square[i]\n",
    "        endI = square[i + 1]\n",
    "        plt.plot(\n",
    "            [positions[startI][0], positions[endI][0]],\n",
    "            [positions[startI][1], positions[endI][1]],\n",
    "            color='g'\n",
    "            )\n",
    "    startI = square[1]\n",
    "    endI = square[3]\n",
    "    plt.plot(\n",
    "        [positions[startI][0], positions[endI][0]],\n",
    "        [positions[startI][1], positions[endI][1]],\n",
    "            color='g'\n",
    "        )\n",
    "for square in squares:\n",
    "    for i in range(4):\n",
    "        startI = square[i]\n",
    "        endI = square[i + 1]\n",
    "        plt.plot(\n",
    "            [positions[startI][0] + eps[2 * startI, 0]*scale, positions[endI][0] + eps[2 * endI, 0]*scale],\n",
    "            [positions[startI][1] + eps[2 * startI + 1, 0]*scale, positions[endI][1] + eps[2 * endI + 1, 0]*scale],\n",
    "            color='r'\n",
    "            )\n",
    "    startI = square[1]\n",
    "    endI = square[3]\n",
    "    plt.plot(\n",
    "        [positions[startI][0] + eps[2 * startI, 0]*scale, positions[endI][0] + eps[2 * endI, 0]*scale],\n",
    "        [positions[startI][1] + eps[2 * startI + 1, 0]*scale, positions[endI][1] + eps[2 * endI + 1, 0]*scale],\n",
    "            color='r'\n",
    "        )\n",
    "plt.xlim([-1, 5])\n",
    "plt.ylim([-1, 5])\n",
    "plt.gca().set_aspect(1)\n",
    "for i in range(len(positions)):\n",
    "    pos = np.array(positions[i]) + [eps[2 * i, 0]*scale, eps[2 * i + 1, 0]*scale]\n",
    "    plt.plot([pos[0], pos[0] + f[2 * i, 0] / 60.], [pos[1], pos[1]], color='b')\n",
    "    plt.plot([pos[0], pos[0]], [pos[1], pos[1] + f[2 * i + 1, 0] / 60.], color='b')\n",
    "    i += 1\n",
    "f.shape, eps.shape, len(positions)"
   ]
  },
  {
   "cell_type": "code",
   "execution_count": 477,
   "metadata": {},
   "outputs": [
    {
     "output_type": "execute_result",
     "data": {
      "text/plain": [
       "array([[ 0.   ],\n",
       "       [ 0.   ],\n",
       "       [-0.109],\n",
       "       [ 0.   ],\n",
       "       [ 0.916],\n",
       "       [-0.109],\n",
       "       [ 0.604],\n",
       "       [ 0.196],\n",
       "       [ 0.613],\n",
       "       [ 0.202],\n",
       "       [ 0.917],\n",
       "       [-0.085],\n",
       "       [ 0.184],\n",
       "       [ 0.157],\n",
       "       [ 0.151],\n",
       "       [ 0.796],\n",
       "       [ 0.091],\n",
       "       [ 0.78 ],\n",
       "       [ 0.685],\n",
       "       [ 1.47 ],\n",
       "       [ 0.08 ],\n",
       "       [ 1.48 ],\n",
       "       [ 0.693],\n",
       "       [ 0.093]])"
      ]
     },
     "metadata": {},
     "execution_count": 477
    }
   ],
   "source": [
    "eps"
   ]
  },
  {
   "cell_type": "code",
   "execution_count": 479,
   "metadata": {},
   "outputs": [
    {
     "output_type": "stream",
     "name": "stdout",
     "text": [
      "[0, 1, 2, 3, 6, 7] [[ 0.   ]\n [ 0.   ]\n [-0.109]\n [ 0.   ]\n [ 0.604]\n [ 0.196]]\n[2, 3, 8, 9, 4, 5] [[-0.109]\n [ 0.   ]\n [ 0.613]\n [ 0.202]\n [ 0.916]\n [-0.109]]\n[4, 5, 10, 11, 14, 15] [[ 0.916]\n [-0.109]\n [ 0.917]\n [-0.085]\n [ 0.151]\n [ 0.796]]\n[14, 15, 12, 13, 18, 19] [[0.151]\n [0.796]\n [0.184]\n [0.157]\n [0.685]\n [1.47 ]]\n[8, 9, 20, 21, 10, 11] [[ 0.613]\n [ 0.202]\n [ 0.08 ]\n [ 1.48 ]\n [ 0.917]\n [-0.085]]\n(10, 6, 1)\n"
     ]
    },
    {
     "output_type": "execute_result",
     "data": {
      "text/plain": [
       "((10, 3, 1), (10, 3, 1))"
      ]
     },
     "metadata": {},
     "execution_count": 479
    }
   ],
   "source": [
    "q = eps # Naming error\n",
    "\n",
    "Aq = []\n",
    "sigma2 = []\n",
    "for x in range(Field.shape[0]):\n",
    "    for y in range(Field.shape[1]):\n",
    "        if Field[x, y]:\n",
    "            evenI = lambda pos: positionsIn.index((x + pos[0], y + pos[1])) * 2\n",
    "            oddI = lambda pos: positionsIn.index((x + pos[0], y + pos[1])) * 2 + 1\n",
    "\n",
    "            targetIndices = [evenI((0, 0)), oddI((0, 0)), evenI((1, 0)), oddI((1, 0)), evenI((0, 1)), oddI((0, 1))]\n",
    "            qLocal = np.array([q[i] for i in targetIndices])\n",
    "            print(targetIndices, qLocal)\n",
    "            Aq.append(qLocal)\n",
    "            sigma2.append(E @ B @ qLocal)\n",
    "\n",
    "            targetIndices = [evenI((1, 1)), oddI((1, 1)), evenI((0, 1)), oddI((0, 1)), evenI((1, 0)), oddI((1, 0))]\n",
    "            qLocal = np.array([q[i] for i in targetIndices])\n",
    "            Aq.append(qLocal)\n",
    "            sigma2.append(E @ B @ qLocal)\n",
    "Aq = np.array(Aq)\n",
    "print(Aq.shape)\n",
    "sigma2 = np.array(sigma2)\n",
    "\n",
    "sigma = E[None, :] @ B[None, :] @ Aq\n",
    "sigma.shape, sigma2.shape"
   ]
  },
  {
   "cell_type": "code",
   "execution_count": 442,
   "metadata": {},
   "outputs": [
    {
     "output_type": "execute_result",
     "data": {
      "text/plain": [
       "array([[-240., -120.,  240.,    0.,    0.,  120.],\n",
       "       [-120., -240.,  120.,    0.,    0.,  240.],\n",
       "       [ -60.,  -60.,    0.,   60.,   60.,    0.]])"
      ]
     },
     "metadata": {},
     "execution_count": 442
    }
   ],
   "source": [
    "E @ B"
   ]
  },
  {
   "cell_type": "code",
   "execution_count": 443,
   "metadata": {},
   "outputs": [
    {
     "output_type": "execute_result",
     "data": {
      "text/plain": [
       "array([[[  -2.689],\n",
       "        [  34.004],\n",
       "        [  36.211]],\n",
       "\n",
       "       [[ -61.958],\n",
       "        [ -11.342],\n",
       "        [ -43.208]],\n",
       "\n",
       "       [[ 160.248],\n",
       "        [  60.487],\n",
       "        [  73.627]],\n",
       "\n",
       "       [[  34.343],\n",
       "        [  68.793],\n",
       "        [ -19.648]],\n",
       "\n",
       "       [[ 108.658],\n",
       "        [ 217.208],\n",
       "        [ -44.475]],\n",
       "\n",
       "       [[ -36.986],\n",
       "        [ -62.101],\n",
       "        [  82.272]],\n",
       "\n",
       "       [[  88.802],\n",
       "        [ 165.732],\n",
       "        [  -6.281]],\n",
       "\n",
       "       [[  67.87 ],\n",
       "        [ -78.292],\n",
       "        [  46.966]],\n",
       "\n",
       "       [[-162.18 ],\n",
       "        [-132.712],\n",
       "        [  94.936]],\n",
       "\n",
       "       [[ 220.092],\n",
       "        [ 359.722],\n",
       "        [ -47.449]]])"
      ]
     },
     "metadata": {},
     "execution_count": 443
    }
   ],
   "source": [
    "sigma2"
   ]
  },
  {
   "cell_type": "code",
   "execution_count": 444,
   "metadata": {},
   "outputs": [
    {
     "output_type": "execute_result",
     "data": {
      "text/plain": [
       "array([[  5005.654],\n",
       "       [ 10271.011],\n",
       "       [ 55293.587],\n",
       "       [  9432.651],\n",
       "       [ 88521.602],\n",
       "       [ 27827.302],\n",
       "       [ 50188.747],\n",
       "       [ 12039.752],\n",
       "       [ 92476.761],\n",
       "       [263766.486]])"
      ]
     },
     "metadata": {},
     "execution_count": 444
    }
   ],
   "source": [
    "sigma_v = np.sqrt(sigma[:, 0] ** 2 + sigma[:, 1] ** 2 + sigma[:, 0] * sigma[:, 1] + 3 * (sigma[:, 2] ** 2))\n",
    "sigma_v ** 2"
   ]
  },
  {
   "cell_type": "code",
   "execution_count": 73,
   "metadata": {},
   "outputs": [],
   "source": [
    "K = np.array([\n",
    "[   3e+02, 1.8e+02,-2.4e+02,     -60,       0,       0,     -60,-1.2e+02,       0,       0,       0,       0,       0,       0,       0,       0,       0,       0,       0,       0,       0],\n",
    "[ 1.8e+02,   3e+02,-1.2e+02,     -60,       0,       0,     -60,-2.4e+02,       0,       0,       0,       0,       0,       0,       0,       0,       0,       0,       0,       0,       0],\n",
    "[-2.4e+02,-1.2e+02,   6e+02, 1.8e+02,-1.2e+02,-1.8e+02,       0, 1.8e+02,       0,       0,       0,       0,-2.4e+02,     -60,       0,       0,       0,       0,       0,       0,       0],\n",
    "[     -60,     -60, 1.8e+02,   6e+02,-1.8e+02,-4.8e+02, 1.8e+02,       0,       0,       0,       0,       0,-1.2e+02,     -60,       0,       0,       0,       0,       0,       0,       0],\n",
    "[       0,       0,-1.2e+02,-1.8e+02,   9e+02, 1.8e+02,-4.8e+02,-1.8e+02,     -60,     -60,       0, 1.8e+02,       0, 1.8e+02,-2.4e+02,-1.2e+02,       0,       0,       0,       0,       0],\n",
    "[       0,       0,-1.8e+02,-4.8e+02, 1.8e+02,   9e+02,-1.8e+02,-1.2e+02,-1.2e+02,-2.4e+02, 1.8e+02,       0, 1.8e+02,       0,     -60,     -60,       0,       0,       0,       0,       0],\n",
    "[     -60,     -60,       0, 1.8e+02,-4.8e+02,-1.8e+02,   6e+02, 1.8e+02,       0,       0,     -60,-1.2e+02,       0,       0,       0,       0,       0,       0,       0,       0,       0],\n",
    "[-1.2e+02,-2.4e+02, 1.8e+02,       0,-1.8e+02,-1.2e+02, 1.8e+02,   6e+02,       0,       0,     -60,-2.4e+02,       0,       0,       0,       0,       0,       0,       0,       0,       0],\n",
    "[       0,       0,       0,       0,     -60,-1.2e+02,       0,       0,   3e+02, 1.8e+02,-2.4e+02,     -60,       0,       0,       0,       0,       0,       0,       0,       0,       0],\n",
    "[       0,       0,       0,       0,     -60,-2.4e+02,       0,       0, 1.8e+02,   3e+02,-1.2e+02,     -60,       0,       0,       0,       0,       0,       0,       0,       0,       0],\n",
    "[       0,       0,       0,       0,       0, 1.8e+02,     -60,     -60,-2.4e+02,-1.2e+02,   3e+02,       0,       0,       0,       0,       0,       0,       0,       0,       0,       0],\n",
    "[       0,       0,       0,       0, 1.8e+02,       0,-1.2e+02,-2.4e+02,     -60,     -60,       0,   3e+02,       0,       0,       0,       0,       0,       0,       0,       0,       0],\n",
    "[       0,       0,-2.4e+02,-1.2e+02,       0, 1.8e+02,       0,       0,       0,       0,       0,       0,   9e+02, 1.8e+02,-1.2e+02,-1.8e+02,     -60,     -60,       0, 1.8e+02,-4.8e+02],\n",
    "[       0,       0,     -60,     -60, 1.8e+02,       0,       0,       0,       0,       0,       0,       0, 1.8e+02,   9e+02,-1.8e+02,-4.8e+02,-1.2e+02,-2.4e+02, 1.8e+02,       0,-1.8e+02],\n",
    "[       0,       0,       0,       0,-2.4e+02,     -60,       0,       0,       0,       0,       0,       0,-1.2e+02,-1.8e+02,   6e+02, 1.8e+02,       0,       0,       0,       0,       0],\n",
    "[       0,       0,       0,       0,-1.2e+02,     -60,       0,       0,       0,       0,       0,       0,-1.8e+02,-4.8e+02, 1.8e+02,   6e+02,       0,       0,       0,       0, 1.8e+02],\n",
    "[       0,       0,       0,       0,       0,       0,       0,       0,       0,       0,       0,       0,     -60,-1.2e+02,       0,       0,   3e+02, 1.8e+02,-2.4e+02,     -60,       0],\n",
    "[       0,       0,       0,       0,       0,       0,       0,       0,       0,       0,       0,       0,     -60,-2.4e+02,       0,       0, 1.8e+02,   3e+02,-1.2e+02,     -60,       0],\n",
    "[       0,       0,       0,       0,       0,       0,       0,       0,       0,       0,       0,       0,       0, 1.8e+02,       0,       0,-2.4e+02,-1.2e+02,   3e+02,       0,     -60],\n",
    "[       0,       0,       0,       0,       0,       0,       0,       0,       0,       0,       0,       0, 1.8e+02,       0,       0,       0,     -60,     -60,       0,   3e+02,-1.2e+02],\n",
    "[       0,       0,       0,       0,       0,       0,       0,       0,       0,       0,       0,       0,-4.8e+02,-1.8e+02,       0, 1.8e+02,       0,       0,     -60,-1.2e+02,   6e+02],\n",
    "])"
   ]
  },
  {
   "cell_type": "code",
   "execution_count": 77,
   "metadata": {},
   "outputs": [
    {
     "output_type": "execute_result",
     "data": {
      "text/plain": [
       "20"
      ]
     },
     "metadata": {},
     "execution_count": 77
    }
   ],
   "source": [
    "np.linalg.matrix_rank(K)"
   ]
  },
  {
   "cell_type": "code",
   "execution_count": 78,
   "metadata": {},
   "outputs": [
    {
     "output_type": "execute_result",
     "data": {
      "text/plain": [
       "(21, 21)"
      ]
     },
     "metadata": {},
     "execution_count": 78
    }
   ],
   "source": [
    "K.shape"
   ]
  },
  {
   "cell_type": "code",
   "execution_count": null,
   "metadata": {},
   "outputs": [],
   "source": []
  }
 ]
}